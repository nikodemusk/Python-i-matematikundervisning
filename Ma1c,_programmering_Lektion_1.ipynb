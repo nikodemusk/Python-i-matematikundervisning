{
  "nbformat": 4,
  "nbformat_minor": 0,
  "metadata": {
    "colab": {
      "name": "Ma1c, programmering - Lektion 1",
      "version": "0.3.2",
      "provenance": [],
      "collapsed_sections": [],
      "include_colab_link": true
    },
    "kernelspec": {
      "name": "python3",
      "display_name": "Python 3"
    }
  },
  "cells": [
    {
      "cell_type": "markdown",
      "metadata": {
        "id": "view-in-github",
        "colab_type": "text"
      },
      "source": [
        "<a href=\"https://colab.research.google.com/github/nikodemusk/mattepython/blob/master/Ma1c,_programmering_Lektion_1.ipynb\" target=\"_parent\"><img src=\"https://colab.research.google.com/assets/colab-badge.svg\" alt=\"Open In Colab\"/></a>"
      ]
    },
    {
      "metadata": {
        "id": "-wpmwQR8gSDf",
        "colab_type": "text"
      },
      "cell_type": "markdown",
      "source": [
        "# Variabler och konstanter"
      ]
    },
    {
      "metadata": {
        "id": "iOGcpa1miS0B",
        "colab_type": "text"
      },
      "cell_type": "markdown",
      "source": [
        "Variabler fungerar som ett minne, ett namn som är kopplat till ett visst värde. Namnet kan i sin tur användas i beräkning; när värdet ändras så ger beräkningen ett nytt resultat."
      ]
    },
    {
      "metadata": {
        "id": "jvRGdOP2f7oW",
        "colab_type": "code",
        "colab": {}
      },
      "cell_type": "code",
      "source": [
        "# I detta exempel \n",
        "triangelBas = 10\n",
        "triangelHöjd = 15\n",
        "triangelArea = triangelBas * triangelHöjd / 2\n",
        "print(\"Arean på triangeln med basen 10 och höjden 15 är\", triangelArea)"
      ],
      "execution_count": 0,
      "outputs": []
    },
    {
      "metadata": {
        "id": "7FYwr5JIjgK1",
        "colab_type": "code",
        "colab": {}
      },
      "cell_type": "code",
      "source": [
        "triangelBas = int(input(\"Ange triangelns bas -> \")) # Måste vara heltal\n",
        "triangelHöjd = int(input(\"Ange triangelns höjd -> \")) # Måste vara heltal\n",
        "print(\"Triangelns area är:\", triangelArea)"
      ],
      "execution_count": 0,
      "outputs": []
    },
    {
      "metadata": {
        "id": "eP6A30rtkElN",
        "colab_type": "code",
        "colab": {}
      },
      "cell_type": "code",
      "source": [
        "\n",
        "import math\n",
        "pi = math.pi\n",
        "radie = float(input(\"Ange cirkelns radie -> \")) # Kan vara heltal eller tal i decimalform\n",
        "cirkelArea = pi * radie ** 2\n",
        "print(\"Cirkelns area är \", cirkelArea)"
      ],
      "execution_count": 0,
      "outputs": []
    },
    {
      "metadata": {
        "id": "vDOQBOyaqMto",
        "colab_type": "text"
      },
      "cell_type": "markdown",
      "source": [
        "**Uppgift 1**\n",
        "\n",
        "Det är rea i affären där Håkan arbetar. Alla varor säljs med 15 % rabatt. För att slippa göra en beräkning för varje belopp så vill han skriva ett program som ska beräkna priset då rabatten är avdragen. Hjälp Håkan att göra detta!"
      ]
    },
    {
      "metadata": {
        "id": "3dpUxgFesmZG",
        "colab_type": "code",
        "colab": {}
      },
      "cell_type": "code",
      "source": [
        "# Lösning Uppgift 1"
      ],
      "execution_count": 0,
      "outputs": []
    },
    {
      "metadata": {
        "id": "m8K_BIJoJfXb",
        "colab_type": "text"
      },
      "cell_type": "markdown",
      "source": [
        "**Uppgift 2**\n",
        "\n",
        "För att omvandla mellan temperaturer i grader Celsius till grader Fahrenheit används sambandet\n",
        "\n",
        "*F* = 1,8*C* + 32\n",
        "\n",
        "a. Skriv ett program som omvandlar en inmatad temperatur i grader Celsius till grader Fahrenheit.\n",
        "\n",
        "b. Skriv ett program som omvandlar temperaturer givna i grader Fahrenheit till grader Celsius.\n",
        "\n"
      ]
    },
    {
      "metadata": {
        "id": "Nii_xtNDKHap",
        "colab_type": "code",
        "colab": {}
      },
      "cell_type": "code",
      "source": [
        "# Lösning uppgift 2a"
      ],
      "execution_count": 0,
      "outputs": []
    },
    {
      "metadata": {
        "id": "OZaPSUCWK0Kn",
        "colab_type": "code",
        "colab": {}
      },
      "cell_type": "code",
      "source": [
        "# Lösning uppgift 2b"
      ],
      "execution_count": 0,
      "outputs": []
    },
    {
      "metadata": {
        "id": "Q07Yxl06vG4M",
        "colab_type": "text"
      },
      "cell_type": "markdown",
      "source": [
        "**Uppgift 3**\n",
        "\n",
        "Skriv ett program som frågar efter längderna på en rätvinklig triangels hypotenusa och den ena katetens längd. Programmet ska då skriva ut den andra katetens längd.\n",
        "\n",
        "För att kunna ta kvadratroten ur ett tal måste man importera matematikbiblioteket med (se även exempel ovan)\n",
        "\n",
        "\n",
        "```\n",
        "import math\n",
        "```\n",
        "\n",
        "Därefter erhålls kvadratroten som\n",
        "\n",
        "```\n",
        "math.sqrt(x)\n",
        "```\n",
        "När ett tal ska kvadreras görs det enligt\n",
        "\n",
        "\n",
        "```\n",
        "x**2\n",
        "```"
      ]
    },
    {
      "metadata": {
        "id": "XPkJ8cNYq-Hn",
        "colab_type": "code",
        "colab": {}
      },
      "cell_type": "code",
      "source": [
        "# Lösning Uppgift 3"
      ],
      "execution_count": 0,
      "outputs": []
    }
  ]
}