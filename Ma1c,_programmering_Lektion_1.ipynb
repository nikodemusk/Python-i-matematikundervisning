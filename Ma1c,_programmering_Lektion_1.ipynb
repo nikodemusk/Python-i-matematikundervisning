{
 "cells": [
  {
   "cell_type": "markdown",
   "metadata": {
    "colab_type": "text",
    "id": "-wpmwQR8gSDf"
   },
   "source": [
    "# Variabler och konstanter\n",
    "\n",
    "**Användning av enkla formler**\n",
    "\n"
   ]
  },
  {
   "cell_type": "markdown",
   "metadata": {
    "colab_type": "text",
    "id": "iOGcpa1miS0B"
   },
   "source": [
    "Variabler fungerar som ett minne, ett namn som är kopplat till ett visst värde. Namnet kan i sin tur användas i beräkning; när värdet ändras så ger beräkningen ett nytt resultat."
   ]
  },
  {
   "cell_type": "code",
   "execution_count": 0,
   "metadata": {
    "colab": {},
    "colab_type": "code",
    "id": "jvRGdOP2f7oW"
   },
   "outputs": [],
   "source": [
    "# Exempel 1a\n",
    "# I detta exempel beräknas arean på triangel med en\n",
    "# given bas och höjd. För att köra programmet går det\n",
    "# antingen att trycka på \"Play-knappen\" till vänster\n",
    "# eller att trycka <Shift> - <Enter>\n",
    "triangelBas = 20\n",
    "triangelHöjd = 30\n",
    "triangelArea = triangelBas * triangelHöjd / 2\n",
    "print(\"Arean på triangeln är\", triangelArea)"
   ]
  },
  {
   "cell_type": "markdown",
   "metadata": {
    "colab_type": "text",
    "id": "ekmhGH9zuj20"
   },
   "source": [
    "Nedan visas hur det fungerar att mata in värden till programmet. Ordet \n",
    "\n",
    "```\n",
    "int\n",
    "```\n",
    "innebär att att inmatningen måste vara ett **heltal**.\n"
   ]
  },
  {
   "cell_type": "code",
   "execution_count": 0,
   "metadata": {
    "colab": {},
    "colab_type": "code",
    "id": "7FYwr5JIjgK1"
   },
   "outputs": [],
   "source": [
    "# Exempel 1b\n",
    "# Den som kör programmet får själv mata in värden\n",
    "triangelBas = int(input(\"Ange triangelns bas -> \")) # Måste vara heltal\n",
    "triangelHöjd = int(input(\"Ange triangelns höjd -> \")) # Måste vara heltal\n",
    "print(\"Triangelns area är:\", triangelArea)"
   ]
  },
  {
   "cell_type": "markdown",
   "metadata": {
    "colab_type": "text",
    "id": "7iNElSn_vSG_"
   },
   "source": [
    "För att hantera tal med decimaler används\n",
    "\n",
    "\n",
    "```\n",
    "float\n",
    "```\n",
    "(flyttal). Decimaltecknet utgörs av en **punkt**.\n",
    "\n",
    "Även om det är möjligt att hantera ett tal med decimaler så är det tillåtet att mata in ett heltal.\n"
   ]
  },
  {
   "cell_type": "code",
   "execution_count": 0,
   "metadata": {
    "colab": {},
    "colab_type": "code",
    "id": "eP6A30rtkElN"
   },
   "outputs": [],
   "source": [
    "# Exempel 2\n",
    "# Beräkning av en cirkels area\n",
    "# Användning av matematikbiblioteket för att få ett närmevärde på pi\n",
    "import math\n",
    "pi = math.pi\n",
    "radie = float(input(\"Ange cirkelns radie -> \"))# Kan vara heltal eller tal i decimalform\n",
    "cirkelArea = pi * radie ** 2\n",
    "print(\"Cirkelns area är \", cirkelArea)"
   ]
  },
  {
   "cell_type": "markdown",
   "metadata": {
    "colab_type": "text",
    "id": "vDOQBOyaqMto"
   },
   "source": [
    "**Uppgift 1**\n",
    "\n",
    "Det är rea i affären där Håkan arbetar. Alla varor säljs med 15 % rabatt. För att slippa göra en beräkning för varje belopp så vill han skriva ett program som ska beräkna priset då rabatten är avdragen. Hjälp Håkan att göra detta!\n",
    "\n",
    "Tips! Det kan vara lämpligt med två variabler, t ex\n",
    "\n",
    "```\n",
    "prisUtanRabatt\n",
    "```\n",
    "och\n",
    "\n",
    "```\n",
    "prisMedRabatt\n",
    "```\n",
    "Det är också bra om priset kan anges som ett tal med decimaler.\n",
    "\n"
   ]
  },
  {
   "cell_type": "code",
   "execution_count": 0,
   "metadata": {
    "colab": {},
    "colab_type": "code",
    "id": "3dpUxgFesmZG"
   },
   "outputs": [],
   "source": [
    "# Lösning Uppgift 1"
   ]
  },
  {
   "cell_type": "markdown",
   "metadata": {
    "colab_type": "text",
    "id": "m8K_BIJoJfXb"
   },
   "source": [
    "**Uppgift 2**\n",
    "\n",
    "För att omvandla mellan temperaturer i grader Celsius till grader Fahrenheit används sambandet\n",
    "\n",
    "<p align = \"left\">![alt text](https://latex.codecogs.com/png.latex?%5Cdpi%7B200%7D%20%5Clarge%20F%3D1.8C&plus;32 =100x13)\n",
    "</p>\n",
    "\n",
    "a. Skriv ett program som omvandlar en inmatad temperatur i grader Celsius till grader Fahrenheit.\n",
    "\n",
    "b. Skriv ett program som omvandlar temperaturer givna i grader Fahrenheit till grader Celsius.\n",
    "\n"
   ]
  },
  {
   "cell_type": "code",
   "execution_count": 0,
   "metadata": {
    "colab": {},
    "colab_type": "code",
    "id": "Nii_xtNDKHap"
   },
   "outputs": [],
   "source": [
    "# Lösning uppgift 2a"
   ]
  },
  {
   "cell_type": "code",
   "execution_count": 0,
   "metadata": {
    "colab": {},
    "colab_type": "code",
    "id": "OZaPSUCWK0Kn"
   },
   "outputs": [],
   "source": [
    "# Lösning uppgift 2b"
   ]
  },
  {
   "cell_type": "markdown",
   "metadata": {
    "colab_type": "text",
    "id": "Q07Yxl06vG4M"
   },
   "source": [
    "**Uppgift 3**\n",
    "\n",
    "Skriv ett program som frågar efter längderna på en rätvinklig triangels hypotenusa och den ena katetens längd. Programmet ska då beräkna den andra katetens längd.\n",
    "\n",
    "För att kunna ta kvadratroten ur ett tal måste man importera matematikbiblioteket med (se även Exempel 2 ovan)\n",
    "\n",
    "\n",
    "```\n",
    "import math\n",
    "```\n",
    "\n",
    "Därefter erhålls kvadratroten som\n",
    "\n",
    "```\n",
    "math.sqrt(x)\n",
    "```\n",
    "Ett tal upphöjt till ett annat, a<sup>b</sup>, skrivs enligt\n",
    "\n",
    "\n",
    "```\n",
    "a**b\n",
    "```"
   ]
  },
  {
   "cell_type": "code",
   "execution_count": 0,
   "metadata": {
    "colab": {},
    "colab_type": "code",
    "id": "XPkJ8cNYq-Hn"
   },
   "outputs": [],
   "source": [
    "# Lösning Uppgift 3"
   ]
  },
  {
   "cell_type": "markdown",
   "metadata": {
    "colab_type": "text",
    "id": "Uhf8ScTs8FO-"
   },
   "source": [
    "**Uppgift 4, om du hinner**\n",
    "\n",
    "Gör om programmet i Uppgift 1 så att du matar in ett tal mellan 0 och 100 som anger hur många procents rabatt det ska vara samt beräknar priset med den rabattsatsen."
   ]
  },
  {
   "cell_type": "code",
   "execution_count": 0,
   "metadata": {
    "colab": {},
    "colab_type": "code",
    "id": "cIYhbe5I8bjw"
   },
   "outputs": [],
   "source": [
    "# Lösning Uppgift 4"
   ]
  }
 ],
 "metadata": {
  "colab": {
   "collapsed_sections": [],
   "name": "Ma1c, programmering Lektion 1",
   "provenance": [],
   "version": "0.3.2"
  },
  "kernelspec": {
   "display_name": "Python 3",
   "language": "python",
   "name": "python3"
  },
  "language_info": {
   "codemirror_mode": {
    "name": "ipython",
    "version": 3
   },
   "file_extension": ".py",
   "mimetype": "text/x-python",
   "name": "python",
   "nbconvert_exporter": "python",
   "pygments_lexer": "ipython3",
   "version": "3.7.2"
  }
 },
 "nbformat": 4,
 "nbformat_minor": 1
}
