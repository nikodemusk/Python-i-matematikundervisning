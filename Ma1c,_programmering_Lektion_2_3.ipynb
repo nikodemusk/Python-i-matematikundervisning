{
 "cells": [
  {
   "cell_type": "markdown",
   "metadata": {
    "colab_type": "text",
    "id": "7ZMC53TeNR7a"
   },
   "source": [
    "# Villkorssatser och loopar\n",
    "**Ibland behöver beräkningar upprepas**"
   ]
  },
  {
   "cell_type": "markdown",
   "metadata": {
    "colab_type": "text",
    "id": "2uVPXzUlNiaa"
   },
   "source": [
    "I många sammanhang måste ett program kunna avgöra om ett villkor är uppfyllt för \"veta\" t ex vad som ska skrivas ut på skärmen.\n",
    "Nedanstående kod avgör om ett tal är positivt eller negativt."
   ]
  },
  {
   "cell_type": "code",
   "execution_count": 0,
   "metadata": {
    "colab": {},
    "colab_type": "code",
    "id": "2FFoo3rCMWRI"
   },
   "outputs": [],
   "source": [
    "# Exempel 1a\n",
    "# Programmet avgör om ett inmatat heltal är positivt eller negativt\n",
    "tal = int(input(\"Mata in ett heltal -> \"))\n",
    "if tal >= 0:\n",
    "  print(\"Ditt tal är positivt\")\n",
    "else:\n",
    "  print(\"Ditt tal är negativt\")"
   ]
  },
  {
   "cell_type": "markdown",
   "metadata": {
    "colab_type": "text",
    "id": "HvmWt8fk1ixP"
   },
   "source": [
    "Ovanstående program har nackdelen att nollan skulle kunna hanteras bättre. Det går att förbättra med ytterligare ett test. Observera det dubbla likhetstecknet då det prövas om talet är lika med noll.\n",
    "\n",
    "![alt text](https://cloudheaven.se/~nikodemus/colab_figures/flowchart_condition.svg)\n",
    "\n",
    "I Python används enkelt likhetstecken för att tilldela variabler värden, t ex \n",
    "\n",
    "```\n",
    "mittTal = 42\n",
    "```\n",
    "och dubbelt likhetstecken för jämförelse, t ex \n",
    "\n",
    "```\n",
    "if mittTal == 42:\n",
    "   print(\"Det är svaret på allt!\")\n",
    "```"
   ]
  },
  {
   "cell_type": "code",
   "execution_count": 0,
   "metadata": {
    "colab": {},
    "colab_type": "code",
    "id": "3xr4uuce1XvR"
   },
   "outputs": [],
   "source": [
    "# Exempel 1b\n",
    "# Programmet avgör om ett inmatat heltal är positivt, noll eller negativt\n",
    "tal = int(input(\"Mata in ett heltal -> \"))\n",
    "if tal > 0:\n",
    "  print(\"Ditt tal är positivt\")\n",
    "elif tal < 0:\n",
    "  print(\"Ditt tal är negativt\")\n",
    "else:\n",
    "  print(\"Ditt tal är noll\")\n",
    "print(\"Nu är if-satsen klar, programmet kan fortsätta med andra saker.\")"
   ]
  },
  {
   "cell_type": "markdown",
   "metadata": {
    "colab_type": "text",
    "id": "f3hk1cQC5M8o"
   },
   "source": [
    "Det går också att jämföra på komplementet. Om ett program går ut på att gissa ett tal så är säkert det vanliga att den som gissar gör det fel.\n",
    "\n",
    "För att negera används tecknet ! som i nedanstående exempel."
   ]
  },
  {
   "cell_type": "code",
   "execution_count": 0,
   "metadata": {
    "colab": {},
    "colab_type": "code",
    "id": "C9acHquV2VAo"
   },
   "outputs": [],
   "source": [
    "# Exempel 2\n",
    "# Programmet illustrerar hur negationer görs\n",
    "hemligtTal = 42\n",
    "gissning = int(input(\"Gissa det hemliga heltalet - > \"))\n",
    "if gissning != hemligtTal:\n",
    "  print(\"Du gissade fel :-(\")\n",
    "else:\n",
    "  print(\"Bra, är du en tankeläsare eller hade du bara tur? ;-)\")"
   ]
  },
  {
   "cell_type": "markdown",
   "metadata": {
    "colab_type": "text",
    "id": "IF_ZWELO-Szn"
   },
   "source": [
    "Det hemliga talet ovan var kanske inte så roligt eftersom det syns vilket tal som är valt. Det går att komma åt genom att slumpa fram ett riktigt hemligt tal. Att skapa ett slumptal (heltal) görs enligt nedan."
   ]
  },
  {
   "cell_type": "code",
   "execution_count": 0,
   "metadata": {
    "colab": {},
    "colab_type": "code",
    "id": "hBjRyA6-84nG"
   },
   "outputs": [],
   "source": [
    "# Exempel 3\n",
    "# Skapar ett slumptal mellan 1 och 99\n",
    "# Det lägre talet inkluderas i möjligheten,\n",
    "# medan det högre inte ingår\n",
    "import random\n",
    "slumptal = random.randrange(1, 100)\n",
    "print(slumptal)"
   ]
  },
  {
   "cell_type": "markdown",
   "metadata": {
    "colab_type": "text",
    "id": "EOnQ0-qBAVT8"
   },
   "source": [
    "**Uppgift 1**\n",
    "\n",
    "Gör nu om programmet i Exempel 2 så att du får gissa ett **hemligt** tal mellan 1 och 9."
   ]
  },
  {
   "cell_type": "code",
   "execution_count": 0,
   "metadata": {
    "colab": {},
    "colab_type": "code",
    "id": "d3Jt9kVm-_FZ"
   },
   "outputs": [],
   "source": [
    "# Lösning Uppgift 1"
   ]
  },
  {
   "cell_type": "markdown",
   "metadata": {
    "colab_type": "text",
    "id": "hiY1QLGdCPfc"
   },
   "source": [
    "**Loopar**\n",
    "\n",
    "Det känns kanske lite elakt att du bara fick ett försök på dig att gissa det hemliga talet. Programmet kan förstås köras igen, men det borde fungera så att att upprepade gissningar är möjliga. Lösningen är att programmet upprepar sig i en **loop** tills rätt gissning görs.\n",
    "![alt text](https://cloudheaven.se/~nikodemus/colab_figures/flowchart_while_loop.svg)"
   ]
  },
  {
   "cell_type": "code",
   "execution_count": 0,
   "metadata": {
    "colab": {},
    "colab_type": "code",
    "id": "sam1IVCIDSat"
   },
   "outputs": [],
   "source": [
    "# Exempel 4\n",
    "# Upprepning av kod med loop\n",
    "import random\n",
    "slumptal = random.randint(1, 10)\n",
    "gissning = 0\n",
    "antalGissningar = 0\n",
    "\n",
    "# Här är själva upprepningen\n",
    "while gissning != slumptal:\n",
    "  gissning = int(input(\"Gissa det hemliga talet -> \"))\n",
    "  antalGissningar = antalGissningar + 1\n",
    "  \n",
    "# Programmet fortsatte loopen så länge villkoret var uppfyllt,\n",
    "# (dvs att gissningen var felaktig), men så fort som villkoret\n",
    "# inte uppfylls (gissningen var korrekt)så slutar upprepningen\n",
    "# och programmet kommer hit.\n",
    "print(\"Antal gissningar:\", antalGissningar)\n",
    "print(\"Det hemliga talet var\", slumptal)"
   ]
  },
  {
   "cell_type": "markdown",
   "metadata": {
    "colab_type": "text",
    "id": "Sk5L9EtVEbsR"
   },
   "source": [
    "**Uppgift 2**\n",
    "\n",
    "Kul, men nog skulle det vara ännu roligare om du fick en ledtråd av programmet om gissningen var för stor eller för liten i de fall som du gissar fel? T ex:\n",
    "\n",
    "```\n",
    "Gissa det hemliga talet -> 5\n",
    "Det talet är för litet, gissa ett större!\n",
    "Gissa det hemliga talet ->\n",
    "```\n",
    "\n",
    "Med hjälp av villkorssatser som du såg i Exempel 1a och 1b ovan så kan du nog klara av att lägga in sådana ledtexter till programmet i Exempel 4."
   ]
  },
  {
   "cell_type": "code",
   "execution_count": 0,
   "metadata": {
    "colab": {},
    "colab_type": "code",
    "id": "8u9TFqcQD64s"
   },
   "outputs": [],
   "source": [
    "# Lösning Uppgift 2"
   ]
  },
  {
   "cell_type": "markdown",
   "metadata": {
    "colab_type": "text",
    "id": "oOYjk8em8-ih"
   },
   "source": [
    "**Räknare**\n",
    "\n",
    "Ibland kan man behöva hålla koll på hur många gånger en loop genomlöps. Det görs genom att en variabel får ett värde som ökar med 1 varje gång loopen gås igenom. (Vi har redan sett en sådan konstruktion i Exempel 4)"
   ]
  },
  {
   "cell_type": "code",
   "execution_count": 0,
   "metadata": {
    "colab": {},
    "colab_type": "code",
    "id": "ada-wD7-9esv"
   },
   "outputs": [],
   "source": [
    "# Exempel 5\n",
    "n = 0\n",
    "while (n < 10):\n",
    "  n = n + 1\n",
    "  print(n)\n",
    "print(\"Loopen gicks igenom \", n, \"gånger.\")"
   ]
  },
  {
   "cell_type": "markdown",
   "metadata": {
    "colab_type": "text",
    "id": "UezCZHLg_MXS"
   },
   "source": [
    "**Uppgift 3**\n",
    "\n",
    "Skriv ett program, med lämplig loop och villkor, som tar reda på hur många gånger vi måste multiplicera 15 med 2 för att få ett resultat som är större än 1 000. "
   ]
  },
  {
   "cell_type": "code",
   "execution_count": 0,
   "metadata": {
    "colab": {},
    "colab_type": "code",
    "id": "l5kMfTPt_k_x"
   },
   "outputs": [],
   "source": [
    "# Lösning Uppgift 3"
   ]
  },
  {
   "cell_type": "markdown",
   "metadata": {
    "colab_type": "text",
    "id": "685qYv0S_pWK"
   },
   "source": [
    "**Uppgift 4**\n",
    "\n",
    "En liter mjölk innehåller 1 500 000 bakterier. I rumstemperatur ökar antalet med 50 % per timme. Mjölken surnar när den innehåller mer än tio miljoner bakterier. Skriv ett program, med lämpligt villkor och loop, för att ta reda på hur många timmar det dröjer innan mjölken blir sur i rumstempetratur."
   ]
  },
  {
   "cell_type": "code",
   "execution_count": 0,
   "metadata": {
    "colab": {},
    "colab_type": "code",
    "id": "SwigcPFiAO-z"
   },
   "outputs": [],
   "source": [
    "# Lösning Uppgift 4"
   ]
  },
  {
   "cell_type": "markdown",
   "metadata": {
    "colab_type": "text",
    "id": "W_0jnIzJ-B06"
   },
   "source": [
    "**Är talet jämnt eller udda?**\n",
    "\n",
    "För att undersöka om ett tal är jämnt eller udda kan följande göras:\n",
    "\n",
    "```\n",
    " a = b % 2\n",
    " # om b är jämnt så kommer a att få värdet 0\n",
    " # om b är udda så kommer a att få värdet 1\n",
    " ```\n",
    "Det %-tecknet gör är att ta fram **resten** vid division med talet ifråga. Är resten noll går divisionen jämnt ut, dvs i det här fallet är talet jämnt delbart med två och därmed är talet jämnt. Nedanstående exempel visar hur det kan användas i en loop som tar inmatning efter inmatning ända tills ett villkor är uppfyllt. Vi ser även hur värdena True och False kan användas i sammanhanget."
   ]
  },
  {
   "cell_type": "code",
   "execution_count": 0,
   "metadata": {
    "colab": {},
    "colab_type": "code",
    "id": "suYrtExg-Dqb"
   },
   "outputs": [],
   "source": [
    "# Exempel 6\n",
    "fortsätt = True\n",
    "while(fortsätt):\n",
    "  b = int(input(\"Mata in ett heltal (0 för att avsluta) -> \"))\n",
    "  a = b % 2\n",
    "  if b == 0:\n",
    "    fortsätt = False\n",
    "  elif b % 2 == 0:\n",
    "    print(\"Ditt inmatade tal är jämnt!\")\n",
    "  elif b % 2 == 1:\n",
    "    print(\"Ditt inmatade tal är udda!\")\n",
    "\n",
    "print(\"Programmet avslutades!\")"
   ]
  },
  {
   "cell_type": "markdown",
   "metadata": {
    "colab_type": "text",
    "id": "yLrlSoEJ-5RZ"
   },
   "source": [
    "**Uppgift 5**\n",
    "\n",
    "Collatz förmodan går ut på att man\n",
    "* väljer ett valfritt positivt heltal\n",
    " * om talet är jämnt divideras det med 2\n",
    " * om talet är udda så multipliceras det med 3, varpå 1 läggs till produkten\n",
    "* Upprepar denna procedur så många gånger som möjligt...\n",
    "* ...då det till slut ger resultatet 1, vilket är Collatz förmodan.\n",
    "\n",
    "Skriv ett program där du undersöker Collatz förmodan med valfria heltal."
   ]
  },
  {
   "cell_type": "code",
   "execution_count": 0,
   "metadata": {
    "colab": {},
    "colab_type": "code",
    "id": "fVA8Yt94H5Yj"
   },
   "outputs": [],
   "source": [
    "# Lösning Uppgift 5"
   ]
  },
  {
   "cell_type": "markdown",
   "metadata": {
    "colab": {},
    "colab_type": "code",
    "id": "B49BO-7QqLn3"
   },
   "source": [
    "**Uppgift 6**\n",
    "\n",
    "Du har ju använt slumpgeneratorn för att slumpa fram ett heltal i ett intervall. Nu ska vi undersöka tärningskast.\n",
    "\n",
    " a. Skapa ett program som kastar en tärning 10 gånger, varpå det skriver ut\n",
    "* hur många sexor det blev\n",
    "* den relativa frekvensen av sexor, uttryckt i procent\n",
    "\n",
    "Öka sedan antalet varv i loopen för att studera hur andelen sexor närmar sig det teoretiska värdet (ja, vad är det teoretiska värdet egentligen?). Hur många kast behöver göras för att den genomsnittliga andelen på tio kastomgångar avviker (i nedanstående uppgifter kan du antingen göra undersökningen med hjälp av ditt program som du just skrivit, eller utveckla programmet så att det blir lättare att göra upprepade körningar / själv tar reda på det)\n",
    " \n",
    " b. 1 procentenhet från det teoretiska värdet?\n",
    " \n",
    " c. 0,1 procentenheter från det teoretiska värdet?"
   ]
  },
  {
   "cell_type": "code",
   "execution_count": null,
   "metadata": {},
   "outputs": [],
   "source": [
    "# Lösning Uppgift 6"
   ]
  }
 ],
 "metadata": {
  "colab": {
   "collapsed_sections": [],
   "name": "Ma1c,  programmering - Lektion 2",
   "provenance": [],
   "version": "0.3.2"
  },
  "kernelspec": {
   "display_name": "Python 3",
   "language": "python",
   "name": "python3"
  },
  "language_info": {
   "codemirror_mode": {
    "name": "ipython",
    "version": 3
   },
   "file_extension": ".py",
   "mimetype": "text/x-python",
   "name": "python",
   "nbconvert_exporter": "python",
   "pygments_lexer": "ipython3",
   "version": "3.7.2"
  }
 },
 "nbformat": 4,
 "nbformat_minor": 1
}
